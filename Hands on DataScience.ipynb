{
 "cells": [
  {
   "cell_type": "code",
   "execution_count": 16,
   "metadata": {},
   "outputs": [],
   "source": [
    "import numpy as np\n",
    "import pandas as pd\n",
    "import matplotlib.pyplot as plt\n",
    "from sklearn.impute import SimpleImputer\n",
    "from sklearn.preprocessing import OneHotEncoder\n",
    "from sklearn.compose import ColumnTransformer\n",
    "from sklearn.preprocessing import LabelEncoder\n",
    "from sklearn.model_selection import train_test_split\n",
    "from sklearn.preprocessing import StandardScaler\n",
    "from sklearn.tree import DecisionTreeClassifier\n",
    "from sklearn import metrics"
   ]
  },
  {
   "cell_type": "code",
   "execution_count": 18,
   "metadata": {},
   "outputs": [],
   "source": [
    "# dataset=pd.read_csv('Data.csv')\n",
    "# dataset.head(5)"
   ]
  },
  {
   "cell_type": "code",
   "execution_count": 75,
   "metadata": {},
   "outputs": [],
   "source": [
    "# x=dataset.iloc[:,:-1].values #getting rid of the last column\n",
    "# y=dataset.iloc[:,3].values\n",
    "# dataset.describe()"
   ]
  },
  {
   "cell_type": "code",
   "execution_count": 67,
   "metadata": {},
   "outputs": [],
   "source": [
    "# '''Working with missing data'''\n",
    "# imputer=SimpleImputer(missing_values=np.nan,strategy='mean')"
   ]
  },
  {
   "cell_type": "code",
   "execution_count": 66,
   "metadata": {},
   "outputs": [],
   "source": [
    "# imputer=imputer.fit(x[:,1:3])\n",
    "# x[:,1:3]=imputer.transform(x[:,1:3])\n"
   ]
  },
  {
   "cell_type": "code",
   "execution_count": 65,
   "metadata": {},
   "outputs": [],
   "source": [
    "#'''categorical encoding -from letters to numbers'''\n",
    "\n",
    "# ct=ColumnTransformer(transformers=[('one_hot_encoder',OneHotEncoder(categories='auto'),[0])],remainder='passthrough')\n",
    "# x=np.array(ct.fit_transform(x),dtype=np.float)\n",
    "# '''encoding depedent variables'''\n",
    "# le=LabelEncoder()\n",
    "# y=le.fit_transform(y)\n"
   ]
  },
  {
   "cell_type": "code",
   "execution_count": 74,
   "metadata": {},
   "outputs": [
    {
     "data": {
      "text/plain": [
       "'splitting data into train and test set'"
      ]
     },
     "execution_count": 74,
     "metadata": {},
     "output_type": "execute_result"
    }
   ],
   "source": [
    "'''splitting data into train and test set'''\n",
    "#X_train, X_test, Y_train, Y_test =train_test_split(x,y,test_size=0.20,random_state=0)\n",
    "#X_train\n",
    "# X_test\n",
    "# Y_test\n",
    "# Y_train"
   ]
  },
  {
   "cell_type": "code",
   "execution_count": 64,
   "metadata": {},
   "outputs": [],
   "source": [
    "#'''Feature scaling '''\n",
    "# sc_X=StandardScaler()\n",
    "# K_train=sc_X.fit_transform(X_train)\n",
    "# X_test=sc_X.transform(X_test)\n"
   ]
  },
  {
   "cell_type": "code",
   "execution_count": 21,
   "metadata": {},
   "outputs": [
    {
     "data": {
      "text/plain": [
       "0.9555555555555556"
      ]
     },
     "execution_count": 21,
     "metadata": {},
     "output_type": "execute_result"
    }
   ],
   "source": [
    "iris_dataset=pd.read_csv('iris.csv')\n",
    "#X=iris_dataset\n",
    "X=iris_dataset.iloc[:,:-1].values\n",
    "Y=iris_dataset.iloc[:,4].values\n",
    "\n",
    "X_train,X_test,Y_train,Y_test=train_test_split(X,Y,test_size=0.3,random_state=1)\n",
    "\n",
    "# create decision tree object and Train Decision Tree Classifer\n",
    "classifier=DecisionTreeClassifier()\n",
    "classifier=classifier.fit(X_train,Y_train)\n",
    "Y_predict=classifier.predict(X_test)\n",
    "\n",
    "#model Accuraccy\n",
    "d=metrics.accuracy_score(Y_test, Y_predict)\n",
    "#accutacy 0.9555555555555556\n",
    "\n",
    "\n"
   ]
  }
 ],
 "metadata": {
  "kernelspec": {
   "display_name": "Python 3",
   "language": "python",
   "name": "python3"
  },
  "language_info": {
   "codemirror_mode": {
    "name": "ipython",
    "version": 3
   },
   "file_extension": ".py",
   "mimetype": "text/x-python",
   "name": "python",
   "nbconvert_exporter": "python",
   "pygments_lexer": "ipython3",
   "version": "3.7.4"
  }
 },
 "nbformat": 4,
 "nbformat_minor": 2
}
