{
 "cells": [
  {
   "cell_type": "code",
   "execution_count": 131,
   "metadata": {},
   "outputs": [],
   "source": [
    "import pandas as pd\n",
    "import numpy as np\n",
    "from numpy import random \n",
    "from pandas import Series,DataFrame,read_html\n"
   ]
  },
  {
   "cell_type": "code",
   "execution_count": 7,
   "metadata": {},
   "outputs": [],
   "source": [
    "'''CSV operations'''\n",
    "dframe=pd.read_csv('TB_burden_countries.csv')\n",
    "#dframe.head(5)\n",
    "\n"
   ]
  },
  {
   "cell_type": "code",
   "execution_count": 11,
   "metadata": {},
   "outputs": [],
   "source": [
    "#using read table\n",
    "dataframe2=pd.read_table('TB_burden_countries.csv',sep=',')\n",
    "# dataframe2.head(3)"
   ]
  },
  {
   "cell_type": "code",
   "execution_count": 13,
   "metadata": {},
   "outputs": [],
   "source": [
    "#importing partial rows\n",
    "dataframe3=pd.read_csv('TB_burden_countries.csv',nrows=4)"
   ]
  },
  {
   "cell_type": "code",
   "execution_count": 17,
   "metadata": {},
   "outputs": [],
   "source": [
    "#dump values to csv\n",
    "# dataframe2.to_csv('outputCSV',sep=',')"
   ]
  },
  {
   "cell_type": "code",
   "execution_count": 21,
   "metadata": {},
   "outputs": [],
   "source": [
    "#select specific columns\n",
    "# dframe.to_csv('dataoutput.csv',columns=[0])"
   ]
  },
  {
   "cell_type": "code",
   "execution_count": 7,
   "metadata": {},
   "outputs": [
    {
     "data": {
      "text/plain": [
       "array(['COUNTRY', 'COUNTRY CODE', 'ISO CODES', 'POPULATION', 'AREA KM2',\n",
       "       'GDP $USD'], dtype=object)"
      ]
     },
     "execution_count": 7,
     "metadata": {},
     "output_type": "execute_result"
    }
   ],
   "source": [
    "'''Html operations'''\n",
    "#read html data\n",
    "url='https://countrycode.org/'\n",
    "dflist=pd.io.html.read_html(url)\n",
    "dataframe4=dflist[0]\n",
    "dataframe4.columns.values\n"
   ]
  },
  {
   "cell_type": "code",
   "execution_count": 18,
   "metadata": {},
   "outputs": [],
   "source": [
    "'''Merging dataframes'''\n",
    "#column merging\n",
    "\n",
    "df1=DataFrame({'Taxi':[\"maramoja\",'utu','bolt','uber','taxify'],'Revenue':[5,7,15,30,2]})\n",
    "df2=DataFrame({'Taxi':[\"maramoja\",'utu','utu','uber'],'Revenue':[4,6,7,1]})"
   ]
  },
  {
   "cell_type": "code",
   "execution_count": 19,
   "metadata": {},
   "outputs": [],
   "source": [
    "df3=pd.merge(df1,df2, on='Taxi')\n"
   ]
  },
  {
   "cell_type": "code",
   "execution_count": 22,
   "metadata": {},
   "outputs": [],
   "source": [
    "df4=pd.merge(df1,df2, on='Taxi',how='left')\n"
   ]
  },
  {
   "cell_type": "code",
   "execution_count": 24,
   "metadata": {},
   "outputs": [],
   "source": [
    "df5=pd.merge(df1,df2, on='Taxi',how='outer')\n"
   ]
  },
  {
   "cell_type": "code",
   "execution_count": 4,
   "metadata": {},
   "outputs": [],
   "source": [
    "df6=DataFrame({'Taxi':[\"maramoja\",'uber','utu','utu','uber','maramoja','utu'],'Revenue':[5,7,15,30,2,8,9]})\n",
    "df7=DataFrame({'Taxi':[\"maramoja\",'uber','utu','utu','uber'],'Revenue':[5,7,15,30,2]})"
   ]
  },
  {
   "cell_type": "code",
   "execution_count": 5,
   "metadata": {},
   "outputs": [],
   "source": [
    "merging=pd.merge(df6,df7,on='Taxi')\n"
   ]
  },
  {
   "cell_type": "code",
   "execution_count": 10,
   "metadata": {},
   "outputs": [],
   "source": [
    "#MERGING USING MULTIPLE REFRENCES\n",
    "df8=DataFrame({'Taxi':[\"maramoja\",'utu','utu'],'Revenue':['THREE','FOUR','FIVE'],\"profit\":[5,9,6]})\n",
    "df9=DataFrame({'Taxi':[\"maramoja\",'maramoja','utu','utu'],'Revenue':['one','two','three','one'],'profit':[5,7,8,9]})"
   ]
  },
  {
   "cell_type": "code",
   "execution_count": 13,
   "metadata": {},
   "outputs": [],
   "source": [
    "multiple_merge=pd.merge(df8,df9,on=['Taxi','Revenue'], how='outer',suffixes=('_first','_second'))"
   ]
  },
  {
   "cell_type": "code",
   "execution_count": 5,
   "metadata": {},
   "outputs": [],
   "source": [
    "'''Merging with Indexes'''\n",
    "df_merged_indexes=DataFrame({'refrence':['o','u','l','o','u'],\n",
    "                            'data':range(5)})\n",
    "df_merged_indexes2=DataFrame({'profit':[10,20]},index=['o','u'])\n",
    "merging_indexes=pd.merge(df_merged_indexes,df_merged_indexes2,left_on='refrence',right_index=True)"
   ]
  },
  {
   "cell_type": "code",
   "execution_count": 12,
   "metadata": {},
   "outputs": [],
   "source": [
    "df_merged_indexes3=DataFrame({'ref1':['A','A','O','O','A'],\n",
    "                            'ref2':[5,10,15,20,25],\n",
    "                             'ref3':[0,1,2,3,4]})\n",
    "df_merged_indexes4=DataFrame(np.arange(10).reshape(5,2),index=[['A','A','O','O','O'],[20,10,10,10,20]],columns=['col1','col2'])\n",
    "merged_indexes=pd.merge(df_merged_indexes3,df_merged_indexes4,left_on=['ref1','ref2'],right_index=True)"
   ]
  },
  {
   "cell_type": "code",
   "execution_count": 17,
   "metadata": {},
   "outputs": [
    {
     "data": {
      "text/plain": [
       "'Join Function in pandas'"
      ]
     },
     "execution_count": 17,
     "metadata": {},
     "output_type": "execute_result"
    }
   ],
   "source": [
    "'''Join Function in pandas???'''\n"
   ]
  },
  {
   "cell_type": "code",
   "execution_count": 26,
   "metadata": {},
   "outputs": [],
   "source": [
    "'''Concatenation_pandas,numpy'''\n",
    "\n",
    "b1=np.arange(25).reshape(5,5)\n",
    "a1=randn.randn(25).reshape(5,5)\n",
    "ab1=np.concatenate([a1,b1],axis=0)"
   ]
  },
  {
   "cell_type": "code",
   "execution_count": 31,
   "metadata": {},
   "outputs": [],
   "source": [
    "#series\n",
    "s1=Series([100,200,300],index=['A','B','C'])\n",
    "s2=Series([499,599],index=['D','E'])\n",
    "s3=pd.concat([s1,s2])#along the rows\n",
    "s3=pd.concat([s1,s2],axis=1,sort=False)# along the columns\n",
    "\n"
   ]
  },
  {
   "cell_type": "code",
   "execution_count": 38,
   "metadata": {},
   "outputs": [],
   "source": [
    "#concatenating dataframes\n",
    "df_concat=DataFrame(randn.randn(4,3),columns=[\"A\",\"B\",\"C\"])\n",
    "df_concat2=DataFrame(randn.randn(3,3),columns=[\"B\",\"D\",\"A\"])\n",
    "df_concat_row=pd.concat([df_concat,df_concat2],sort=False,ignore_index=True)#row concatenation\n",
    "df_concat_columns=pd.concat([df_concat,df_concat2],axis=1,sort=False)"
   ]
  },
  {
   "cell_type": "code",
   "execution_count": 47,
   "metadata": {},
   "outputs": [],
   "source": [
    "'''Combine function in pandas'''\n",
    "\n",
    "#using combine with series\n",
    "s4=Series([6,np.nan,7,np.nan],index=['A','B','C','D'])\n",
    "s5=Series(np.arange(3),dtype=np.float64,index=s1.index)\n",
    "s6=s4.combine_first(s5)\n"
   ]
  },
  {
   "cell_type": "code",
   "execution_count": 51,
   "metadata": {},
   "outputs": [],
   "source": [
    "#using combine with dataframes\n",
    "df_5n=DataFrame({'col1':[5,np.nan,15],\n",
    "                'col2':[20,25,np.nan],\n",
    "                'col3':[np.nan,np.nan,35]})\n",
    "df_10n=DataFrame({'col1':[0,10,20],\n",
    "                'col2':[10,20,30]})\n",
    "df_5_10n=df_5n.combine_first(df_10n)"
   ]
  },
  {
   "cell_type": "code",
   "execution_count": 58,
   "metadata": {},
   "outputs": [],
   "source": [
    "'''reshaping dataset'''\n",
    "df_reshape=DataFrame(np.arange(8).reshape(2,4),index=pd.Index(['Uber','Bolt'],name='Taxi_cabs'),columns=pd.Index(['c1','c2','c3','c4'],name='attributes'))\n",
    "stack_df_reshape=df_reshape.stack()\n",
    "unstack_df_reshape=df_reshape.unstack()"
   ]
  },
  {
   "cell_type": "code",
   "execution_count": 62,
   "metadata": {},
   "outputs": [],
   "source": [
    " #unstack df along columns/rows to reshape the matrix\n",
    "unstack_df_reshape_row=stack_df_reshape.unstack('Taxi_cabs')\n",
    "unstack_df_reshape_col=stack_df_reshape.unstack('attributes')\n",
    "\n"
   ]
  },
  {
   "cell_type": "code",
   "execution_count": 65,
   "metadata": {},
   "outputs": [],
   "source": [
    "#reshaping series'\n",
    "s_reshape1=Series([5,10,25],index=['A','B','C'])\n",
    "s_reshape2=Series([15,20,25],index=['B','C','D'])\n",
    "s_concat=pd.concat([s_reshape1,s_reshape2],keys=['K1','K2'])\n",
    "df_s_reshape=s_concat.unstack()"
   ]
  },
  {
   "cell_type": "code",
   "execution_count": 77,
   "metadata": {},
   "outputs": [],
   "source": [
    "'''Pivot Tables from Pandas DataFrames'''\n",
    "url='https://en.wikipedia.org/wiki/Pivot_table'\n",
    "df_list_pivot=pd.io.html.read_html(url)\n",
    "df_pivot=df_list_pivot[0]\n",
    "\n",
    "new_header=df_pivot.iloc[0]#grab the first row for the header\n",
    "df_pivot=df_pivot[0:]#take data less the header row\n",
    "# df_pivot.columns=new_header#first the header row as the df header\n",
    "\n",
    "df_pivot_table=df_pivot.pivot('Date of sale','Sales person','Total price')"
   ]
  },
  {
   "cell_type": "code",
   "execution_count": 87,
   "metadata": {},
   "outputs": [],
   "source": [
    "'''Duplicates in pandas dataframe'''\n",
    "df_pd=DataFrame({ 'col1':['uber','uber','uber','uber','bolt'],\n",
    "                 'col2':[5,4,3,3,5]})\n",
    "# df_pd.drop_duplicates(['col1'],keep='last')#based on column values"
   ]
  },
  {
   "cell_type": "code",
   "execution_count": 93,
   "metadata": {},
   "outputs": [
    {
     "data": {
      "text/plain": [
       "'Mapping in a dataframe'"
      ]
     },
     "execution_count": 93,
     "metadata": {},
     "output_type": "execute_result"
    }
   ],
   "source": [
    "'''Mapping in a dataframe'''\n",
    "# df_map=DataFrame({'countries':[[\"Afghanistan\"],['Albania'],['Algeria']],\n",
    "#                   'code':[['83'],['235'],['213']]})\n",
    "# gdp_map=DataFrame({[\"Afghanistan\"]:['28'],['Albania']:['52.8'],['Algeria']:['215']})\n",
    "# df_map=df_map['countries'].map(gdp_map)\n",
    "# df_map"
   ]
  },
  {
   "cell_type": "code",
   "execution_count": 100,
   "metadata": {},
   "outputs": [
    {
     "data": {
      "text/plain": [
       "0    1000.0\n",
       "1       NaN\n",
       "2      50.0\n",
       "3    4000.0\n",
       "4      50.0\n",
       "5    1000.0\n",
       "6       NaN\n",
       "7    4000.0\n",
       "dtype: float64"
      ]
     },
     "execution_count": 100,
     "metadata": {},
     "output_type": "execute_result"
    }
   ],
   "source": [
    "'''Replace values in series'''\n",
    "s_replace=Series([10,20,50,40,50,10,20,40])\n",
    "# s_replace.replace([10,20,50],[100,200,500])#multiple replaces\n",
    "# s_replace.replace({10:1000,20:np.nan,40:4000})"
   ]
  },
  {
   "cell_type": "code",
   "execution_count": 116,
   "metadata": {},
   "outputs": [],
   "source": [
    "'''renaming indexes'''\n",
    "#renaming indexes using map()\n",
    "df_rename=DataFrame(np.arange(25).reshape(5,5),index=['uber','bolt','utu','maramoja','taxify'],columns=['REVENUE','lOSS','QUALITY','GROWTH','AGE'])\n",
    "df_rename_index=df_rename.index.map(str.upper)\n"
   ]
  },
  {
   "cell_type": "code",
   "execution_count": 117,
   "metadata": {},
   "outputs": [],
   "source": [
    "#renaming index using .rename()\n",
    "df_rename_renamed=df_rename.rename(index=str.title,columns=str.lower)"
   ]
  },
  {
   "cell_type": "code",
   "execution_count": 118,
   "metadata": {},
   "outputs": [],
   "source": [
    "#renaming using dictionary\n",
    "df_rename_dict=df_rename.rename(index={'uber':'A1 Taxi'},columns={\"REVENUE\":'REV'})"
   ]
  },
  {
   "cell_type": "code",
   "execution_count": 121,
   "metadata": {},
   "outputs": [],
   "source": [
    "#saving the renamed df\n",
    "df_rename.rename(index={'uber':'A1 Taxi'},columns={\"REVENUE\":'REV'},inplace=True)\n"
   ]
  },
  {
   "cell_type": "code",
   "execution_count": 127,
   "metadata": {},
   "outputs": [],
   "source": [
    "'''Binning Values-grouping continous values into smaller numbers-eg arrange age into smaller intervals 20-24'''\n",
    "prime_number=[2, 3, 5, 7, 11, 13, 17, 19, 23, 29, 31, 37, 41, 43, 47]\n",
    "number_bins=[0,10,20,30,40,50]\n",
    "category=pd.cut(prime_number,number_bins)\n",
    "# category.categories\n",
    "\n",
    "#using values.counts\n",
    "counted=pd.value_counts(category)\n",
    "\n",
    "#specific bin numbers\n",
    "category2=pd.cut(prime_number,3,precision=1)\n",
    "# category2"
   ]
  },
  {
   "cell_type": "code",
   "execution_count": 141,
   "metadata": {},
   "outputs": [],
   "source": [
    "'''Observation and basic analysis'''\n",
    "df_ob=DataFrame(np.random.randn(1000,5))\n",
    "\n",
    "# #basic observation\n",
    "# df_ob.tail()#last 5rows\n",
    "# df_ob.head()#first 5rows\n",
    "# df_ob.describe()#mean,std,max,count\n",
    "# df_ob=df_ob[(np.abs(df_ob)>3)]=np.sign(df_ob)*5\n",
    "# df_ob.describe()"
   ]
  },
  {
   "cell_type": "code",
   "execution_count": null,
   "metadata": {},
   "outputs": [],
   "source": [
    "\n"
   ]
  }
 ],
 "metadata": {
  "kernelspec": {
   "display_name": "Python 3",
   "language": "python",
   "name": "python3"
  },
  "language_info": {
   "codemirror_mode": {
    "name": "ipython",
    "version": 3
   },
   "file_extension": ".py",
   "mimetype": "text/x-python",
   "name": "python",
   "nbconvert_exporter": "python",
   "pygments_lexer": "ipython3",
   "version": "3.7.4"
  }
 },
 "nbformat": 4,
 "nbformat_minor": 2
}
