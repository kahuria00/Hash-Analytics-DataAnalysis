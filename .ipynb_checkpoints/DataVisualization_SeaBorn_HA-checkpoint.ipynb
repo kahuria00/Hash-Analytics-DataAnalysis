{
 "cells": [
  {
   "cell_type": "code",
   "execution_count": 1,
   "metadata": {},
   "outputs": [],
   "source": [
    "import pandas as pd\n",
    "import numpy as np\n",
    "from numpy.random import randn \n",
    "from pandas import Series,DataFrame,read_html\n",
    "import matplotlib as mpl\n",
    "import matplotlib.pyplot as plt\n",
    "import seaborn as sb\n",
    "from scipy import stats"
   ]
  },
  {
   "cell_type": "code",
   "execution_count": 20,
   "metadata": {},
   "outputs": [],
   "source": [
    "#histogram using pyplot\n",
    "# df1=randn(1000)\n",
    "# df2=randn(100)\n",
    "# plt.hist(df1)\n",
    "# plt.hist(df2)\n",
    "\n",
    "# plt.hist(df1,color='green',alpha=0.5)\n",
    "# plt.hist(df2,alpha=0.5)\n"
   ]
  },
  {
   "cell_type": "code",
   "execution_count": 21,
   "metadata": {},
   "outputs": [],
   "source": [
    "'''SEABORN'''\n",
    "#seaborn to plot hex and scatter plot\n",
    "# df3=randn(1000)\n",
    "# df4=randn(1000)\n",
    "# sb_plot=sb.jointplot(df3,df4)#scatterplot\n",
    "# sb_plot=sb.jointplot(df3,df4,kind='hex')"
   ]
  },
  {
   "cell_type": "code",
   "execution_count": 43,
   "metadata": {},
   "outputs": [],
   "source": [
    "#KernelDensityEstimates\n",
    "# ds=randn(100)\n",
    "# sb.rugplot(df)\n",
    "# # plt.ylim(0,1)\n",
    "# plt.hist(df,color='pink',alpha=0.5)\n",
    "# x_axes=np.linspace(ds.min()-1,ds.max()+1,50)\n",
    "# bandwidth=((4*ds.std()**5)/(3*len(ds)))**0.2\n",
    "# kernels=[]\n",
    "# for point in ds:\n",
    "#     kernel=stats.norm(point,bandwidth).pdf(x_axes)\n",
    "#     kernels.append(kernel)\n",
    "    \n",
    "#     kernel=kernel/kernel.max()\n",
    "#     kernel=kernel*0.6\n",
    "#     plt.plot(x_axes,kernel,alpha=0.3,color='purple')\n",
    "# # plt.ylim(0,1)\n",
    "# kde=np.sum(kernels,axis=0)\n",
    "# kde_fig=plt.plot(x_axes,kde,color='green')\n",
    "# sb.rugplot(ds)\n",
    "# plt.suptitle('KDE PLOT')\n",
    "\n"
   ]
  },
  {
   "cell_type": "code",
   "execution_count": 44,
   "metadata": {},
   "outputs": [],
   "source": [
    "#using Seaborn kde\n",
    "# sb.kdeplot(ds)"
   ]
  },
  {
   "cell_type": "code",
   "execution_count": 63,
   "metadata": {},
   "outputs": [
    {
     "data": {
      "text/plain": [
       "'KDE PLOT IN DATAFRAME'"
      ]
     },
     "execution_count": 63,
     "metadata": {},
     "output_type": "execute_result"
    }
   ],
   "source": [
    "'''KDE PLOT IN DATAFRAME'''\n",
    "\n",
    "# mean=[0,0]\n",
    "# covariance=[[1,0],[0,100]]\n",
    "# ds=np.random.multivariate_normal(mean,covariance,500)\n",
    "# dframe=pd.DataFrame(ds,columns=['col1','col2'])\n",
    "# sb.kdeplot(dframe)"
   ]
  },
  {
   "cell_type": "code",
   "execution_count": 54,
   "metadata": {},
   "outputs": [],
   "source": [
    "#using shade\n",
    "# sb.kdeplot(dframe,shade=True)"
   ]
  },
  {
   "cell_type": "code",
   "execution_count": 58,
   "metadata": {},
   "outputs": [],
   "source": [
    "#bandwidth Change\n",
    "# sb.kdeplot(dframe,bw='silverman')"
   ]
  },
  {
   "cell_type": "code",
   "execution_count": 62,
   "metadata": {},
   "outputs": [],
   "source": [
    "#using jointplot with seaborn\n",
    "# sb.jointplot('col1','col2',dframe,kind='kde')"
   ]
  },
  {
   "cell_type": "code",
   "execution_count": 70,
   "metadata": {},
   "outputs": [],
   "source": [
    "'''multiple plot using seaborn'''\n",
    "ds=randn(100)\n",
    "# sb.distplot(ds,bins=15)\n",
    "# sb.distplot(ds,hist=False,rug=True,bins=10)\n",
    "\n",
    "#change parameter of each graph\n",
    "# sb.distplot(ds,bins=15,kde_kws={'color':'yellow','label':'KDE Graph'},hist_kws={'color':'purple','label':'Histogram','alpha':0.5})"
   ]
  },
  {
   "cell_type": "code",
   "execution_count": 71,
   "metadata": {},
   "outputs": [
    {
     "data": {
      "text/plain": [
       "'Using Seaborn with series'"
      ]
     },
     "execution_count": 71,
     "metadata": {},
     "output_type": "execute_result"
    }
   ],
   "source": [
    "'''Using Seaborn with series'''\n",
    "# s1=Series(ds,name='s1')\n",
    "# sb.distplot(s1,bins=15)"
   ]
  },
  {
   "cell_type": "code",
   "execution_count": 80,
   "metadata": {},
   "outputs": [],
   "source": [
    "'''Box plots with seaborn'''\n",
    "df1=randn(80)\n",
    "# sb.boxplot(df1,orient='v',whis=np.inf)"
   ]
  },
  {
   "cell_type": "code",
   "execution_count": 3,
   "metadata": {},
   "outputs": [],
   "source": [
    "'''Regression plot'''\n",
    "df=sb.load_dataset('diamonds').sample(frac=1).head(100)#from the internet\n",
    "# sb.lmplot('price','carat',df)\n",
    "# sb.lmplot('price','carat',df,scatter_kws={'marker':'x','color':'purple'},line_kws={'color':'pink','Linewidth':1})"
   ]
  },
  {
   "cell_type": "code",
   "execution_count": 8,
   "metadata": {},
   "outputs": [],
   "source": [
    "#higher order trend line(include order)\n",
    "# sb.lmplot('price','carat',df,order=4,scatter_kws={'marker':'x','color':'purple'},line_kws={'color':'pink','Linewidth':2})"
   ]
  },
  {
   "cell_type": "code",
   "execution_count": 11,
   "metadata": {},
   "outputs": [],
   "source": [
    "#scatter plots without trendline\n",
    "# sb.lmplot('price','carat',df,fit_reg=False)"
   ]
  },
  {
   "cell_type": "code",
   "execution_count": 14,
   "metadata": {},
   "outputs": [],
   "source": [
    "#hue argument with markers \n",
    "# sb.lmplot('price','carat',df,hue='cut',markers=['^','v','*','.','s'])"
   ]
  },
  {
   "cell_type": "code",
   "execution_count": 16,
   "metadata": {},
   "outputs": [],
   "source": [
    "#hue argument\n",
    "# sb.lmplot('price','carat',df,hue='cut')"
   ]
  },
  {
   "cell_type": "code",
   "execution_count": 5,
   "metadata": {},
   "outputs": [],
   "source": [
    "#local regression\n",
    "# sb.lmplot('price','carat',df,lowess=True)"
   ]
  },
  {
   "cell_type": "code",
   "execution_count": 9,
   "metadata": {},
   "outputs": [],
   "source": [
    "#regplot\n",
    "# sb.regplot('price','carat',df)"
   ]
  },
  {
   "cell_type": "code",
   "execution_count": 14,
   "metadata": {},
   "outputs": [],
   "source": [
    "# image,(plt1,plt2)=plt.subplots(1,2,sharey=True)\n",
    "# sb.regplot('price','carat',df,ax=plt1,)\n",
    "# sb.boxplot(df['carat'],df['depth'],color='green',ax=plt2)"
   ]
  },
  {
   "cell_type": "code",
   "execution_count": 21,
   "metadata": {},
   "outputs": [],
   "source": [
    "#using Violinplot with seaborn\n",
    "data=randn(100)\n",
    "# sb.violinplot(data)\n",
    "# sb.violinplot(data,bw=0.2)\n",
    "# sb.violinplot(data,inner='stick')"
   ]
  },
  {
   "cell_type": "code",
   "execution_count": 29,
   "metadata": {},
   "outputs": [],
   "source": [
    "'''HEAT MAPS'''\n",
    "df_maps=sb.load_dataset('flights')\n",
    "df_maps1=df_maps.pivot('year','month','passengers')\n",
    "# df_maps1\n",
    "# sb.heatmap(df_maps1)\n",
    "# sb.heatmap(df_maps1,annot=True,fmt='d')\n",
    "# sb.heatmap(df_maps1,center=df_maps1.loc[1955,'January'])"
   ]
  },
  {
   "cell_type": "code",
   "execution_count": 30,
   "metadata": {},
   "outputs": [
    {
     "data": {
      "text/plain": [
       "'Cluster maps'"
      ]
     },
     "execution_count": 30,
     "metadata": {},
     "output_type": "execute_result"
    }
   ],
   "source": [
    "'''Cluster maps'''\n",
    "# sb.clustermap(df_maps1)\n",
    "# sb.clustermap(df_maps1,col_cluster=False)#row cluster\n",
    "#stsndardize by row\n",
    "# sb.clustermap(df_maps1,standard_scale=1)"
   ]
  },
  {
   "cell_type": "code",
   "execution_count": 36,
   "metadata": {},
   "outputs": [
    {
     "data": {
      "image/png": "[encoded data removed]",
      "text/plain": [
       "<Figure size 432x288 with 2 Axes>"
      ]
     },
     "metadata": {
      "needs_background": "light"
     },
     "output_type": "display_data"
    }
   ],
   "source": [
    "life_expectancy_df=pd.read_csv('gapminder-FiveYearData.csv')\n",
    "life_expectancy_df.head(5)\n",
    "life_expectancy_df_pivot=pd.pivot_table(life_expectancy_df, 'lifeExp','continent', 'year')\n",
    "life_expectancy_plot=sb.heatmap(life_expectancy_df_pivot)\n",
    "plt.title('Life expectancy across continents(1952-2007)')\n",
    "ax.figure.savefig('seaborn_heatmap.png')\n",
    "\n"
   ]
  },
  {
   "cell_type": "code",
   "execution_count": null,
   "metadata": {},
   "outputs": [],
   "source": []
  }
 ],
 "metadata": {
  "kernelspec": {
   "display_name": "Python 3",
   "language": "python",
   "name": "python3"
  },
  "language_info": {
   "codemirror_mode": {
    "name": "ipython",
    "version": 3
   },
   "file_extension": ".py",
   "mimetype": "text/x-python",
   "name": "python",
   "nbconvert_exporter": "python",
   "pygments_lexer": "ipython3",
   "version": "3.7.4"
  }
 },
 "nbformat": 4,
 "nbformat_minor": 2
}
